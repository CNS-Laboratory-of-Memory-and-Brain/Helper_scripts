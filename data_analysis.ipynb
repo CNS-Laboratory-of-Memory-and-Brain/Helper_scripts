{
 "cells": [
  {
   "cell_type": "code",
   "execution_count": 1,
   "id": "ef6c0294",
   "metadata": {},
   "outputs": [],
   "source": [
    "import numpy as np\n",
    "import pandas as pd\n",
    "from sklearn.linear_model import LinearRegression\n",
    "from sklearn.preprocessing import PolynomialFeatures\n",
    "from sklearn.linear_model import SGDRegressor\n",
    "from sklearn.model_selection import permutation_test_score\n",
    "import matplotlib.pyplot as plt\n",
    "from sklearn.metrics import r2_score\n",
    "from sklearn import datasets, linear_model\n",
    "from sklearn.linear_model import LinearRegression\n",
    "import statsmodels.api as sm\n",
    "from scipy import stats"
   ]
  },
  {
   "cell_type": "code",
   "execution_count": 2,
   "id": "7ac13a5e",
   "metadata": {
    "scrolled": true
   },
   "outputs": [
    {
     "data": {
      "text/html": [
       "<div>\n",
       "<style scoped>\n",
       "    .dataframe tbody tr th:only-of-type {\n",
       "        vertical-align: middle;\n",
       "    }\n",
       "\n",
       "    .dataframe tbody tr th {\n",
       "        vertical-align: top;\n",
       "    }\n",
       "\n",
       "    .dataframe thead th {\n",
       "        text-align: right;\n",
       "    }\n",
       "</style>\n",
       "<table border=\"1\" class=\"dataframe\">\n",
       "  <thead>\n",
       "    <tr style=\"text-align: right;\">\n",
       "      <th></th>\n",
       "      <th>Episodic Memory</th>\n",
       "      <th>Semantic Memory</th>\n",
       "      <th>Executive Functions</th>\n",
       "      <th>Attention &amp; Processing Speed</th>\n",
       "      <th>Visuospatial Functions</th>\n",
       "      <th>time</th>\n",
       "    </tr>\n",
       "  </thead>\n",
       "  <tbody>\n",
       "    <tr>\n",
       "      <th>0</th>\n",
       "      <td>1.699755</td>\n",
       "      <td>0.676376</td>\n",
       "      <td>0.420559</td>\n",
       "      <td>1.397400</td>\n",
       "      <td>0.374548</td>\n",
       "      <td>1.0</td>\n",
       "    </tr>\n",
       "    <tr>\n",
       "      <th>1</th>\n",
       "      <td>3.070047</td>\n",
       "      <td>0.723351</td>\n",
       "      <td>0.447419</td>\n",
       "      <td>1.325689</td>\n",
       "      <td>1.049295</td>\n",
       "      <td>4.0</td>\n",
       "    </tr>\n",
       "    <tr>\n",
       "      <th>2</th>\n",
       "      <td>1.917291</td>\n",
       "      <td>0.704802</td>\n",
       "      <td>0.499631</td>\n",
       "      <td>0.928316</td>\n",
       "      <td>1.092771</td>\n",
       "      <td>7.0</td>\n",
       "    </tr>\n",
       "    <tr>\n",
       "      <th>3</th>\n",
       "      <td>1.865487</td>\n",
       "      <td>0.868533</td>\n",
       "      <td>1.438919</td>\n",
       "      <td>1.300555</td>\n",
       "      <td>0.888015</td>\n",
       "      <td>10.0</td>\n",
       "    </tr>\n",
       "    <tr>\n",
       "      <th>4</th>\n",
       "      <td>1.334629</td>\n",
       "      <td>0.837765</td>\n",
       "      <td>1.033923</td>\n",
       "      <td>1.174871</td>\n",
       "      <td>0.229012</td>\n",
       "      <td>13.0</td>\n",
       "    </tr>\n",
       "    <tr>\n",
       "      <th>5</th>\n",
       "      <td>2.335754</td>\n",
       "      <td>1.276166</td>\n",
       "      <td>0.856049</td>\n",
       "      <td>1.754637</td>\n",
       "      <td>0.569265</td>\n",
       "      <td>16.0</td>\n",
       "    </tr>\n",
       "    <tr>\n",
       "      <th>6</th>\n",
       "      <td>1.526670</td>\n",
       "      <td>0.786626</td>\n",
       "      <td>0.794152</td>\n",
       "      <td>1.007998</td>\n",
       "      <td>0.611992</td>\n",
       "      <td>21.0</td>\n",
       "    </tr>\n",
       "    <tr>\n",
       "      <th>7</th>\n",
       "      <td>1.930263</td>\n",
       "      <td>1.265043</td>\n",
       "      <td>1.214109</td>\n",
       "      <td>1.263209</td>\n",
       "      <td>0.733970</td>\n",
       "      <td>26.0</td>\n",
       "    </tr>\n",
       "    <tr>\n",
       "      <th>8</th>\n",
       "      <td>1.019792</td>\n",
       "      <td>0.733305</td>\n",
       "      <td>0.727632</td>\n",
       "      <td>1.054922</td>\n",
       "      <td>0.366860</td>\n",
       "      <td>31.0</td>\n",
       "    </tr>\n",
       "    <tr>\n",
       "      <th>9</th>\n",
       "      <td>1.102496</td>\n",
       "      <td>1.002840</td>\n",
       "      <td>1.337733</td>\n",
       "      <td>1.455319</td>\n",
       "      <td>0.441424</td>\n",
       "      <td>36.0</td>\n",
       "    </tr>\n",
       "    <tr>\n",
       "      <th>10</th>\n",
       "      <td>0.959155</td>\n",
       "      <td>0.598661</td>\n",
       "      <td>0.580405</td>\n",
       "      <td>0.972132</td>\n",
       "      <td>0.366820</td>\n",
       "      <td>41.0</td>\n",
       "    </tr>\n",
       "    <tr>\n",
       "      <th>11</th>\n",
       "      <td>1.174053</td>\n",
       "      <td>0.796648</td>\n",
       "      <td>0.933926</td>\n",
       "      <td>0.958700</td>\n",
       "      <td>0.234929</td>\n",
       "      <td>46.0</td>\n",
       "    </tr>\n",
       "  </tbody>\n",
       "</table>\n",
       "</div>"
      ],
      "text/plain": [
       "    Episodic Memory  Semantic Memory  Executive Functions  \\\n",
       "0          1.699755         0.676376             0.420559   \n",
       "1          3.070047         0.723351             0.447419   \n",
       "2          1.917291         0.704802             0.499631   \n",
       "3          1.865487         0.868533             1.438919   \n",
       "4          1.334629         0.837765             1.033923   \n",
       "5          2.335754         1.276166             0.856049   \n",
       "6          1.526670         0.786626             0.794152   \n",
       "7          1.930263         1.265043             1.214109   \n",
       "8          1.019792         0.733305             0.727632   \n",
       "9          1.102496         1.002840             1.337733   \n",
       "10         0.959155         0.598661             0.580405   \n",
       "11         1.174053         0.796648             0.933926   \n",
       "\n",
       "    Attention & Processing Speed  Visuospatial Functions  time  \n",
       "0                       1.397400                0.374548   1.0  \n",
       "1                       1.325689                1.049295   4.0  \n",
       "2                       0.928316                1.092771   7.0  \n",
       "3                       1.300555                0.888015  10.0  \n",
       "4                       1.174871                0.229012  13.0  \n",
       "5                       1.754637                0.569265  16.0  \n",
       "6                       1.007998                0.611992  21.0  \n",
       "7                       1.263209                0.733970  26.0  \n",
       "8                       1.054922                0.366860  31.0  \n",
       "9                       1.455319                0.441424  36.0  \n",
       "10                      0.972132                0.366820  41.0  \n",
       "11                      0.958700                0.234929  46.0  "
      ]
     },
     "execution_count": 2,
     "metadata": {},
     "output_type": "execute_result"
    }
   ],
   "source": [
    "tb = pd.read_csv(\"raw_data.csv\")\n",
    "tb = tb.drop(12, axis=0)\n",
    "time =  np.array([1.000, 4.000, 7.000, 10.000, 13.000, 16.000, 21.000, 26.000, 31.000, 36.000, 41.000, 46.000])\n",
    "tb['time'] = time\n",
    "tb = tb.drop(tb.columns[0], axis=1)\n",
    "tb"
   ]
  },
  {
   "cell_type": "code",
   "execution_count": 3,
   "id": "f290ce89",
   "metadata": {
    "scrolled": false
   },
   "outputs": [
    {
     "data": {
      "text/html": [
       "<div>\n",
       "<style scoped>\n",
       "    .dataframe tbody tr th:only-of-type {\n",
       "        vertical-align: middle;\n",
       "    }\n",
       "\n",
       "    .dataframe tbody tr th {\n",
       "        vertical-align: top;\n",
       "    }\n",
       "\n",
       "    .dataframe thead th {\n",
       "        text-align: right;\n",
       "    }\n",
       "</style>\n",
       "<table border=\"1\" class=\"dataframe\">\n",
       "  <thead>\n",
       "    <tr style=\"text-align: right;\">\n",
       "      <th></th>\n",
       "      <th>Episodic Memory</th>\n",
       "      <th>Semantic Memory</th>\n",
       "      <th>Executive Functions</th>\n",
       "      <th>Attention &amp; Processing Speed</th>\n",
       "      <th>Visuospatial Functions</th>\n",
       "      <th>time</th>\n",
       "    </tr>\n",
       "  </thead>\n",
       "  <tbody>\n",
       "    <tr>\n",
       "      <th>Episodic Memory</th>\n",
       "      <td>1.000000</td>\n",
       "      <td>0.258515</td>\n",
       "      <td>-0.233508</td>\n",
       "      <td>0.466381</td>\n",
       "      <td>0.744570</td>\n",
       "      <td>-0.696955</td>\n",
       "    </tr>\n",
       "    <tr>\n",
       "      <th>Semantic Memory</th>\n",
       "      <td>0.258515</td>\n",
       "      <td>1.000000</td>\n",
       "      <td>0.592052</td>\n",
       "      <td>0.652154</td>\n",
       "      <td>0.061687</td>\n",
       "      <td>0.062615</td>\n",
       "    </tr>\n",
       "    <tr>\n",
       "      <th>Executive Functions</th>\n",
       "      <td>-0.233508</td>\n",
       "      <td>0.592052</td>\n",
       "      <td>1.000000</td>\n",
       "      <td>0.246602</td>\n",
       "      <td>-0.106676</td>\n",
       "      <td>0.297593</td>\n",
       "    </tr>\n",
       "    <tr>\n",
       "      <th>Attention &amp; Processing Speed</th>\n",
       "      <td>0.466381</td>\n",
       "      <td>0.652154</td>\n",
       "      <td>0.246602</td>\n",
       "      <td>1.000000</td>\n",
       "      <td>0.053320</td>\n",
       "      <td>-0.337785</td>\n",
       "    </tr>\n",
       "    <tr>\n",
       "      <th>Visuospatial Functions</th>\n",
       "      <td>0.744570</td>\n",
       "      <td>0.061687</td>\n",
       "      <td>-0.106676</td>\n",
       "      <td>0.053320</td>\n",
       "      <td>1.000000</td>\n",
       "      <td>-0.562196</td>\n",
       "    </tr>\n",
       "    <tr>\n",
       "      <th>time</th>\n",
       "      <td>-0.696955</td>\n",
       "      <td>0.062615</td>\n",
       "      <td>0.297593</td>\n",
       "      <td>-0.337785</td>\n",
       "      <td>-0.562196</td>\n",
       "      <td>1.000000</td>\n",
       "    </tr>\n",
       "  </tbody>\n",
       "</table>\n",
       "</div>"
      ],
      "text/plain": [
       "                              Episodic Memory  Semantic Memory  \\\n",
       "Episodic Memory                      1.000000         0.258515   \n",
       "Semantic Memory                      0.258515         1.000000   \n",
       "Executive Functions                 -0.233508         0.592052   \n",
       "Attention & Processing Speed         0.466381         0.652154   \n",
       "Visuospatial Functions               0.744570         0.061687   \n",
       "time                                -0.696955         0.062615   \n",
       "\n",
       "                              Executive Functions  \\\n",
       "Episodic Memory                         -0.233508   \n",
       "Semantic Memory                          0.592052   \n",
       "Executive Functions                      1.000000   \n",
       "Attention & Processing Speed             0.246602   \n",
       "Visuospatial Functions                  -0.106676   \n",
       "time                                     0.297593   \n",
       "\n",
       "                              Attention & Processing Speed  \\\n",
       "Episodic Memory                                   0.466381   \n",
       "Semantic Memory                                   0.652154   \n",
       "Executive Functions                               0.246602   \n",
       "Attention & Processing Speed                      1.000000   \n",
       "Visuospatial Functions                            0.053320   \n",
       "time                                             -0.337785   \n",
       "\n",
       "                              Visuospatial Functions      time  \n",
       "Episodic Memory                             0.744570 -0.696955  \n",
       "Semantic Memory                             0.061687  0.062615  \n",
       "Executive Functions                        -0.106676  0.297593  \n",
       "Attention & Processing Speed                0.053320 -0.337785  \n",
       "Visuospatial Functions                      1.000000 -0.562196  \n",
       "time                                       -0.562196  1.000000  "
      ]
     },
     "execution_count": 3,
     "metadata": {},
     "output_type": "execute_result"
    }
   ],
   "source": [
    "tb.corr()"
   ]
  },
  {
   "cell_type": "code",
   "execution_count": 4,
   "id": "b398f9b2",
   "metadata": {},
   "outputs": [],
   "source": [
    "episodic = tb[tb.columns[0]]\n",
    "semantic = tb[tb.columns[1]]\n",
    "executive = tb[tb.columns[2]]\n",
    "attention = tb[tb.columns[3]]\n",
    "visuospatial = tb[tb.columns[4]]"
   ]
  },
  {
   "cell_type": "code",
   "execution_count": 5,
   "id": "d16e8b70",
   "metadata": {},
   "outputs": [],
   "source": [
    "import seaborn as sns"
   ]
  },
  {
   "cell_type": "code",
   "execution_count": 6,
   "id": "97ae2e49",
   "metadata": {},
   "outputs": [
    {
     "data": {
      "text/plain": [
       "array([ 1.,  4.,  7., 10., 13., 16., 21., 26., 31., 36., 41., 46.])"
      ]
     },
     "execution_count": 6,
     "metadata": {},
     "output_type": "execute_result"
    }
   ],
   "source": [
    "time"
   ]
  },
  {
   "cell_type": "code",
   "execution_count": 7,
   "id": "0ab1a062",
   "metadata": {
    "scrolled": true
   },
   "outputs": [
    {
     "data": {
      "text/plain": [
       "0     1.699755\n",
       "1     3.070047\n",
       "2     1.917291\n",
       "3     1.865487\n",
       "4     1.334629\n",
       "5     2.335754\n",
       "6     1.526670\n",
       "7     1.930263\n",
       "8     1.019792\n",
       "9     1.102496\n",
       "10    0.959155\n",
       "11    1.174053\n",
       "Name: Episodic Memory, dtype: float64"
      ]
     },
     "execution_count": 7,
     "metadata": {},
     "output_type": "execute_result"
    }
   ],
   "source": [
    "episodic"
   ]
  },
  {
   "cell_type": "code",
   "execution_count": 12,
   "id": "62bf8768",
   "metadata": {},
   "outputs": [],
   "source": [
    "from matplotlib.pyplot import figure"
   ]
  },
  {
   "cell_type": "code",
   "execution_count": 21,
   "id": "d7cf7f87",
   "metadata": {
    "scrolled": true
   },
   "outputs": [
    {
     "data": {
      "text/plain": [
       "[<matplotlib.lines.Line2D at 0x7ff1688c3850>]"
      ]
     },
     "execution_count": 21,
     "metadata": {},
     "output_type": "execute_result"
    },
    {
     "data": {
      "image/png": "[encoded data removed]",
      "text/plain": [
       "<Figure size 520x240 with 1 Axes>"
      ]
     },
     "metadata": {
      "needs_background": "light"
     },
     "output_type": "display_data"
    }
   ],
   "source": [
    "reg = ols_reg(time, episodic)\n",
    "figure(figsize=(6.5, 3), dpi=80)\n",
    "plt.scatter(time, episodic, color='blue')\n",
    "plt.plot(time, reg.predict(), color='black')"
   ]
  },
  {
   "cell_type": "code",
   "execution_count": 22,
   "id": "caadcdf1",
   "metadata": {},
   "outputs": [
    {
     "data": {
      "text/plain": [
       "[<matplotlib.lines.Line2D at 0x1e543ec2608>]"
      ]
     },
     "execution_count": 22,
     "metadata": {},
     "output_type": "execute_result"
    },
    {
     "data": {
      "image/png": "[encoded data removed]",
      "text/plain": [
       "<Figure size 432x288 with 1 Axes>"
      ]
     },
     "metadata": {
      "needs_background": "light"
     },
     "output_type": "display_data"
    }
   ],
   "source": [
    "reg = ols_reg(time, semantic)\n",
    "plt.scatter(time, semantic, color ='purple')\n",
    "plt.plot(time, reg.predict(), color='black')"
   ]
  },
  {
   "cell_type": "code",
   "execution_count": 23,
   "id": "8f22e996",
   "metadata": {},
   "outputs": [
    {
     "data": {
      "text/plain": [
       "[<matplotlib.lines.Line2D at 0x1e5437418c8>]"
      ]
     },
     "execution_count": 23,
     "metadata": {},
     "output_type": "execute_result"
    },
    {
     "data": {
      "image/png": "[encoded data removed]",
      "text/plain": [
       "<Figure size 432x288 with 1 Axes>"
      ]
     },
     "metadata": {
      "needs_background": "light"
     },
     "output_type": "display_data"
    }
   ],
   "source": [
    "reg = ols_reg(time, executive)\n",
    "plt.scatter(time, executive, color ='green')\n",
    "plt.plot(time, reg.predict(), color = 'black')"
   ]
  },
  {
   "cell_type": "code",
   "execution_count": 27,
   "id": "56edfa2a",
   "metadata": {},
   "outputs": [
    {
     "data": {
      "text/plain": [
       "[<matplotlib.lines.Line2D at 0x1e544070fc8>]"
      ]
     },
     "execution_count": 27,
     "metadata": {},
     "output_type": "execute_result"
    },
    {
     "data": {
      "image/png": "[encoded data removed]",
      "text/plain": [
       "<Figure size 432x288 with 1 Axes>"
      ]
     },
     "metadata": {
      "needs_background": "light"
     },
     "output_type": "display_data"
    }
   ],
   "source": [
    "reg = ols_reg(time, attention)\n",
    "plt.scatter(time, attention, color ='yellow')\n",
    "plt.plot(time, reg.predict(), color = 'black')"
   ]
  },
  {
   "cell_type": "code",
   "execution_count": 28,
   "id": "e6040b86",
   "metadata": {
    "scrolled": true
   },
   "outputs": [
    {
     "data": {
      "text/plain": [
       "[<matplotlib.lines.Line2D at 0x1e5440d5fc8>]"
      ]
     },
     "execution_count": 28,
     "metadata": {},
     "output_type": "execute_result"
    },
    {
     "data": {
      "image/png": "[encoded data removed]",
      "text/plain": [
       "<Figure size 432x288 with 1 Axes>"
      ]
     },
     "metadata": {
      "needs_background": "light"
     },
     "output_type": "display_data"
    }
   ],
   "source": [
    "reg = ols_reg(time, visuospatial)\n",
    "plt.scatter(time, visuospatial, color ='red')\n",
    "plt.plot(time, reg.predict(), color = 'black')"
   ]
  },
  {
   "cell_type": "code",
   "execution_count": 9,
   "id": "3751ebf6",
   "metadata": {},
   "outputs": [],
   "source": [
    "def ols_reg(X, y):\n",
    "    diabetes = datasets.load_diabetes()\n",
    "    X2 = sm.add_constant(X)\n",
    "    est = sm.OLS(y, X2)\n",
    "    est2 = est.fit()\n",
    "    return est2"
   ]
  },
  {
   "cell_type": "code",
   "execution_count": 10,
   "id": "738c855e",
   "metadata": {},
   "outputs": [],
   "source": [
    "import warnings\n",
    "warnings.filterwarnings('ignore')"
   ]
  },
  {
   "cell_type": "code",
   "execution_count": 30,
   "id": "c4417bb6",
   "metadata": {},
   "outputs": [],
   "source": [
    "memory_scores = [episodic, semantic, executive, attention, visuospatial]\n",
    "m_names = ['episodic', 'semantic', 'executive', 'attention', 'visuospatial']\n",
    "f = open(\"results.txt\", mode='w')\n",
    "for idx in range(len(memory_scores)):\n",
    "    memory = memory_scores[idx]\n",
    "    name = m_names[idx]\n",
    "    reg = ols_reg(time, memory)\n",
    "    print(\"regression results between time and \" + name + \": \", file=f)\n",
    "    print(reg.summary(), file=f)\n",
    "\n",
    "f.close()"
   ]
  },
  {
   "cell_type": "code",
   "execution_count": 31,
   "id": "a004b561",
   "metadata": {},
   "outputs": [],
   "source": [
    "def perm(X, y, n, m_name):\n",
    "    k_r = 0\n",
    "    reg = ols_reg(X, y)\n",
    "    r2 = reg.rsquared\n",
    "    \n",
    "    X_shuf = np.copy(X)\n",
    "    \n",
    "    for i in range(n):\n",
    "        np.random.shuffle(X_shuf)\n",
    "        reg = ols_reg(X_shuf, y)\n",
    "        r2_n = reg.rsquared\n",
    "        k_r += r2 < r2_n\n",
    "        \n",
    "    return \"p_value of permutation test shuffling coefficients of \" + m_name + \" memory scores \" + str(n) + \" times : \"+ str(k_r / n) + \"\\n\""
   ]
  },
  {
   "cell_type": "code",
   "execution_count": 32,
   "id": "0a5531f4",
   "metadata": {},
   "outputs": [],
   "source": [
    "memory_scores = [episodic, semantic, executive, attention, visuospatial]\n",
    "m_names = ['episodic', 'semantic', 'executive', 'attention', 'visuospatial']\n",
    "f = open(\"results.txt\", mode='a')\n",
    "for idx in range(len(memory_scores)):\n",
    "    memory = memory_scores[idx]\n",
    "    name = m_names[idx]\n",
    "    f.write(perm(time, memory, 1000, name))\n",
    "\n",
    "f.close()"
   ]
  },
  {
   "cell_type": "code",
   "execution_count": 6,
   "id": "5600b0b6",
   "metadata": {},
   "outputs": [],
   "source": [
    "mci_cor = \"\"\"-0.413\n",
    "-0.472\n",
    "-0.536\n",
    "-0.444\n",
    "-0.551\n",
    "-0.269\n",
    "-0.068\n",
    "-0.367\n",
    "-0.287\n",
    "-0.088\n",
    "-0.109\n",
    "0.055\n",
    "-0.125\n",
    "\"\"\"\n",
    "\n",
    "mci_beta = \"\"\"-0.097\n",
    "-0.093\n",
    "-0.129\n",
    "-0.077\n",
    "-0.142\n",
    "-0.04\n",
    "0.007\n",
    "-0.074\n",
    "-0.063\n",
    "-0.019\n",
    "0.001\n",
    "0.054\n",
    "-0.004\n",
    "\"\"\"\n",
    "\n",
    "con_cor = \"\"\"-0.024\n",
    "-0.461\n",
    "-0.088\n",
    "-0.248\n",
    "-0.176\n",
    "-0.203\n",
    "-0.188\n",
    "-0.11\n",
    "-0.143\n",
    "0.06\n",
    "0.051\n",
    "-0.049\n",
    "0.143\n",
    "\"\"\"\n",
    "\n",
    "con_beta = \"\"\"0.051\n",
    "-0.109\n",
    "0.006\n",
    "-0.038\n",
    "-0.031\n",
    "-0.026\n",
    "-0.018\n",
    "0\n",
    "0.015\n",
    "0.024\n",
    "0.087\n",
    "-0.043\n",
    "-0.013\n",
    "\"\"\"\n",
    "\n",
    "every_cor = \"\"\"-0.289\n",
    "-0.486\n",
    "-0.412\n",
    "-0.386\n",
    "-0.42\n",
    "-0.267\n",
    "-0.184\n",
    "-0.301\n",
    "-0.283\n",
    "-0.078\n",
    "-0.1\n",
    "0.002\n",
    "0.018\n",
    "\"\"\"\n",
    "\n",
    "every_beta = \"\"\"-0.097\n",
    "-0.093\n",
    "-0.129\n",
    "-0.077\n",
    "-0.142\n",
    "-0.04\n",
    "0.007\n",
    "-0.074\n",
    "-0.063\n",
    "-0.019\n",
    "0.001\n",
    "0.054\n",
    "-0.004\n",
    "\"\"\""
   ]
  },
  {
   "cell_type": "code",
   "execution_count": 17,
   "id": "e91ef943",
   "metadata": {},
   "outputs": [],
   "source": [
    "X = np.array([1.000, 4.000, 7.000, 10.000, 13.000, 16.000, 21.000, 26.000, 31.000, 36.000, 41.000, 46.000, 51.000])"
   ]
  },
  {
   "cell_type": "code",
   "execution_count": 18,
   "id": "a5abc2c0",
   "metadata": {},
   "outputs": [],
   "source": [
    "def ols_reg(X, y):\n",
    "    y = [float(val) for val in y.split()]\n",
    "    diabetes = datasets.load_diabetes()\n",
    "    X2 = sm.add_constant(X)\n",
    "    est = sm.OLS(y, X2)\n",
    "    est2 = est.fit()\n",
    "    return est2"
   ]
  },
  {
   "cell_type": "code",
   "execution_count": 22,
   "id": "82d54b99",
   "metadata": {},
   "outputs": [],
   "source": [
    "lst = [every_cor, every_beta, con_cor, con_beta, mci_cor, mci_beta]"
   ]
  },
  {
   "cell_type": "code",
   "execution_count": 25,
   "id": "0017d143",
   "metadata": {
    "scrolled": false
   },
   "outputs": [
    {
     "name": "stderr",
     "output_type": "stream",
     "text": [
      "C:\\Users\\15634\\anaconda3\\lib\\site-packages\\scipy\\stats\\stats.py:1603: UserWarning: kurtosistest only valid for n>=20 ... continuing anyway, n=13\n",
      "  warnings.warn(\"kurtosistest only valid for n>=20 ... continuing \"\n",
      "C:\\Users\\15634\\anaconda3\\lib\\site-packages\\scipy\\stats\\stats.py:1603: UserWarning: kurtosistest only valid for n>=20 ... continuing anyway, n=13\n",
      "  warnings.warn(\"kurtosistest only valid for n>=20 ... continuing \"\n",
      "C:\\Users\\15634\\anaconda3\\lib\\site-packages\\scipy\\stats\\stats.py:1603: UserWarning: kurtosistest only valid for n>=20 ... continuing anyway, n=13\n",
      "  warnings.warn(\"kurtosistest only valid for n>=20 ... continuing \"\n",
      "C:\\Users\\15634\\anaconda3\\lib\\site-packages\\scipy\\stats\\stats.py:1603: UserWarning: kurtosistest only valid for n>=20 ... continuing anyway, n=13\n",
      "  warnings.warn(\"kurtosistest only valid for n>=20 ... continuing \"\n",
      "C:\\Users\\15634\\anaconda3\\lib\\site-packages\\scipy\\stats\\stats.py:1603: UserWarning: kurtosistest only valid for n>=20 ... continuing anyway, n=13\n",
      "  warnings.warn(\"kurtosistest only valid for n>=20 ... continuing \"\n",
      "C:\\Users\\15634\\anaconda3\\lib\\site-packages\\scipy\\stats\\stats.py:1603: UserWarning: kurtosistest only valid for n>=20 ... continuing anyway, n=13\n",
      "  warnings.warn(\"kurtosistest only valid for n>=20 ... continuing \"\n"
     ]
    }
   ],
   "source": [
    "with open(\"NE_cor_report.txt\", \"w\") as f:\n",
    "    for y in lst:\n",
    "        print(ols_reg(X, y).summary(), file = f)"
   ]
  },
  {
   "cell_type": "code",
   "execution_count": null,
   "id": "df942851",
   "metadata": {},
   "outputs": [],
   "source": []
  }
 ],
 "metadata": {
  "kernelspec": {
   "display_name": "Python 3 (ipykernel)",
   "language": "python",
   "name": "python3"
  },
  "language_info": {
   "codemirror_mode": {
    "name": "ipython",
    "version": 3
   },
   "file_extension": ".py",
   "mimetype": "text/x-python",
   "name": "python",
   "nbconvert_exporter": "python",
   "pygments_lexer": "ipython3",
   "version": "3.9.7"
  }
 },
 "nbformat": 4,
 "nbformat_minor": 5
}
