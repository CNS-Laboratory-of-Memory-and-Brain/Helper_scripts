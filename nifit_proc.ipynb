{
 "cells": [
  {
   "cell_type": "code",
   "execution_count": 1,
   "id": "16afa486",
   "metadata": {},
   "outputs": [],
   "source": [
    "import pandas as pd\n",
    "import numpy as np\n",
    "import json\n",
    "import os\n",
    "import shutil"
   ]
  },
  {
   "cell_type": "code",
   "execution_count": 9,
   "id": "e3142b9e",
   "metadata": {
    "scrolled": true
   },
   "outputs": [
    {
     "name": "stdout",
     "output_type": "stream",
     "text": [
      "Changing //pentagon.ucsd.edu/squirelab/local/mridata/Smith_Merit/Processed_Data/nifti/sub-086/ses-sen/fmap/\n",
      "Changing sub-086_ses-sen_dir-fwd_run-1_epi.json\n",
      "Changing sub-086_ses-sen_dir-fwd_run-2_epi.json\n",
      "Changing sub-086_ses-sen_dir-rvs_run-1_epi.json\n",
      "Changing sub-086_ses-sen_dir-rvs_run-2_epi.json\n",
      "Changing //pentagon.ucsd.edu/squirelab/local/mridata/Smith_Merit/Processed_Data/nifti/sub-086/ses-ne/fmap/\n",
      "Changing sub-086_ses-ne_dir-fwd_run-1_epi.json\n",
      "Changing sub-086_ses-ne_dir-fwd_run-2_epi.json\n",
      "Changing sub-086_ses-ne_dir-rvs_run-1_epi.json\n",
      "Changing sub-086_ses-ne_dir-rvs_run-2_epi.json\n",
      "Changing //pentagon.ucsd.edu/squirelab/local/mridata/Smith_Merit/Processed_Data/nifti/sub-087/ses-ne/fmap/\n",
      "Changing sub-087_ses-ne_dir-fwd_run-1_epi.json\n",
      "Changing sub-087_ses-ne_dir-fwd_run-2_epi.json\n",
      "Changing sub-087_ses-ne_dir-rvs_run-1_epi.json\n",
      "Changing sub-087_ses-ne_dir-rvs_run-2_epi.json\n",
      "Changing //pentagon.ucsd.edu/squirelab/local/mridata/Smith_Merit/Processed_Data/nifti/sub-090/ses-sen/fmap/\n",
      "Changing sub-090_ses-sen_dir-fwd_run-1_epi.json\n",
      "Changing sub-090_ses-sen_dir-fwd_run-2_epi.json\n",
      "Changing sub-090_ses-sen_dir-rvs_run-1_epi.json\n",
      "Changing sub-090_ses-sen_dir-rvs_run-2_epi.json\n",
      "Changing //pentagon.ucsd.edu/squirelab/local/mridata/Smith_Merit/Processed_Data/nifti/sub-090/ses-ne/fmap/\n",
      "Changing sub-090_ses-ne_dir-fwd_run-1_epi.json\n",
      "Changing sub-090_ses-ne_dir-fwd_run-2_epi.json\n",
      "Changing sub-090_ses-ne_dir-rvs_run-1_epi.json\n",
      "Changing sub-090_ses-ne_dir-rvs_run-2_epi.json\n",
      "Changing //pentagon.ucsd.edu/squirelab/local/mridata/Smith_Merit/Processed_Data/nifti/sub-091/ses-ne/fmap/\n",
      "Changing sub-091_ses-ne_dir-fwd_run-1_epi.json\n",
      "Changing sub-091_ses-ne_dir-fwd_run-2_epi.json\n",
      "Changing sub-091_ses-ne_dir-rvs_run-1_epi.json\n",
      "Changing sub-091_ses-ne_dir-rvs_run-2_epi.json\n",
      "Changing //pentagon.ucsd.edu/squirelab/local/mridata/Smith_Merit/Processed_Data/nifti/sub-092/ses-ne/fmap/\n",
      "Changing sub-092_ses-ne_dir-fwd_run-1_epi.json\n",
      "Changing sub-092_ses-ne_dir-fwd_run-2_epi.json\n",
      "Changing sub-092_ses-ne_dir-rvs_run-1_epi.json\n",
      "Changing sub-092_ses-ne_dir-rvs_run-2_epi.json\n",
      "Changing //pentagon.ucsd.edu/squirelab/local/mridata/Smith_Merit/Processed_Data/nifti/sub-093/ses-ne/fmap/\n",
      "Changing sub-093_ses-ne_dir-fwd_run-1_epi.json\n",
      "Changing sub-093_ses-ne_dir-fwd_run-2_epi.json\n",
      "Changing sub-093_ses-ne_dir-rvs_run-1_epi.json\n",
      "Changing sub-093_ses-ne_dir-rvs_run-2_epi.json\n",
      "Changing //pentagon.ucsd.edu/squirelab/local/mridata/Smith_Merit/Processed_Data/nifti/sub-094/ses-ne/fmap/\n",
      "Changing sub-094_ses-ne_dir-fwd_run-1_epi.json\n",
      "Changing sub-094_ses-ne_dir-fwd_run-2_epi.json\n",
      "Changing sub-094_ses-ne_dir-rvs_run-1_epi.json\n",
      "Changing sub-094_ses-ne_dir-rvs_run-2_epi.json\n",
      "Changing //pentagon.ucsd.edu/squirelab/local/mridata/Smith_Merit/Processed_Data/nifti/sub-095/ses-sen/fmap/\n",
      "Changing sub-095_ses-sen_dir-fwd_run-1_epi.json\n",
      "Changing sub-095_ses-sen_dir-fwd_run-2_epi.json\n",
      "Changing sub-095_ses-sen_dir-rvs_run-1_epi.json\n",
      "Changing sub-095_ses-sen_dir-rvs_run-2_epi.json\n",
      "Changing //pentagon.ucsd.edu/squirelab/local/mridata/Smith_Merit/Processed_Data/nifti/sub-095/ses-ne/fmap/\n",
      "Changing sub-095_ses-ne_dir-fwd_run-1_epi.json\n",
      "Changing sub-095_ses-ne_dir-fwd_run-2_epi.json\n",
      "Changing sub-095_ses-ne_dir-rvs_run-1_epi.json\n",
      "Changing sub-095_ses-ne_dir-rvs_run-2_epi.json\n",
      "Changing //pentagon.ucsd.edu/squirelab/local/mridata/Smith_Merit/Processed_Data/nifti/sub-096/ses-ne/fmap/\n",
      "Changing sub-096_ses-ne_dir-fwd_run-1_epi.json\n",
      "Changing sub-096_ses-ne_dir-fwd_run-2_epi.json\n",
      "Changing sub-096_ses-ne_dir-rvs_run-1_epi.json\n",
      "Changing sub-096_ses-ne_dir-rvs_run-2_epi.json\n",
      "Changing //pentagon.ucsd.edu/squirelab/local/mridata/Smith_Merit/Processed_Data/nifti/sub-097/ses-ne/fmap/\n",
      "Changing sub-097_ses-ne_dir-fwd_run-1_epi.json\n",
      "Changing sub-097_ses-ne_dir-fwd_run-2_epi.json\n",
      "Changing sub-097_ses-ne_dir-rvs_run-1_epi.json\n",
      "Changing sub-097_ses-ne_dir-rvs_run-2_epi.json\n"
     ]
    }
   ],
   "source": [
    "for subnum in range(86, 98):\n",
    "    sub = f\"sub-{subnum:03d}\" \n",
    "    path_sen = f\"//pentagon.ucsd.edu/squirelab/local/mridata/Smith_Merit/Processed_Data/nifti/{sub}/ses-sen/fmap/\"\n",
    "    path_ne = f\"//pentagon.ucsd.edu/squirelab/local/mridata/Smith_Merit/Processed_Data/nifti/{sub}/ses-ne/fmap/\"\n",
    "    if os.path.exists(path_sen):\n",
    "        print(\"Changing \" + path_sen)\n",
    "        cor_lst = []\n",
    "        func_path = path_sen[:-5]+\"func/\"\n",
    "        for cor_file in os.listdir(func_path):\n",
    "            if cor_file[-2:] == \"gz\":\n",
    "                cor_lst.append(\"ses-sen/func/\"+cor_file)\n",
    "                \n",
    "        for file in os.listdir(path_sen):\n",
    "            if file[-4:] == \"json\" and file[:7] == sub:\n",
    "                print(\"Changing \" + file)\n",
    "                js_f = open(path_sen+file)\n",
    "                back_up_path = path_sen+\"backup-\"+file\n",
    "                if not os.path.exists(back_up_path):\n",
    "                    shutil.copyfile(path_sen+file, back_up_path)\n",
    "                data = json.load(js_f)\n",
    "                to_change = data[\"IntendedFor\"]\n",
    "                js_f.close()\n",
    "                \n",
    "                new_lst = []\n",
    "                \n",
    "                for to_change_f in to_change:  \n",
    "                    #start finding the term\n",
    "                    run_w = \"\"\n",
    "                    for w in to_change_f.split(\"_\"):\n",
    "                        if w[:3] == \"run\":\n",
    "                            run_w = w\n",
    "                            break\n",
    "\n",
    "                    for i in range(len(cor_lst)):\n",
    "                        cor_file = cor_lst[i]\n",
    "                        if run_w in cor_file.split(\"_\"):\n",
    "                            new_lst.append(cor_file)\n",
    "                            break\n",
    "            \n",
    "                if len(new_lst) != len(to_change):\n",
    "                    raise Exception('Error!')\n",
    "                data[\"IntendedFor\"] = new_lst\n",
    "                \n",
    "                js_f = open(path_sen+file, \"w\")\n",
    "                json_string = json.dumps(data, indent=8)\n",
    "                js_f.write(json_string)\n",
    "                js_f.close()\n",
    "        \n",
    "    if os.path.exists(path_ne):\n",
    "        print(\"Changing \" + path_ne)\n",
    "        cor_lst = []\n",
    "        func_path = path_ne[:-5]+\"func/\"\n",
    "        for cor_file in os.listdir(func_path):\n",
    "            if cor_file[-2:] == \"gz\":\n",
    "                cor_lst.append(\"ses-ne/func/\"+cor_file)\n",
    "\n",
    "        for file in os.listdir(path_ne):\n",
    "            if file[-4:] == \"json\" and file[:7] == sub:\n",
    "                print(\"Changing \" + file)\n",
    "                js_f = open(path_ne+file)\n",
    "                back_up_path = path_ne+\"backup-\"+file\n",
    "                if not os.path.exists(back_up_path):\n",
    "                    shutil.copyfile(path_ne+file, back_up_path)\n",
    "                data = json.load(js_f)\n",
    "                to_change = data[\"IntendedFor\"]\n",
    "                js_f.close()\n",
    "\n",
    "                new_lst = []\n",
    "                \n",
    "                for to_change_f in to_change:  \n",
    "                    #start finding the term\n",
    "                    run_w = \"\"\n",
    "                    for w in to_change_f.split(\"_\"):\n",
    "                        if w[:3] == \"run\":\n",
    "                            run_w = w\n",
    "                            break\n",
    "                    \n",
    "                    for i in range(len(cor_lst)):\n",
    "                        cor_file = cor_lst[i]\n",
    "                        if run_w in cor_file.split(\"_\"):\n",
    "                            new_lst.append(cor_file)\n",
    "                            break\n",
    "                        \n",
    "                if len(new_lst) != len(to_change):\n",
    "                    raise Exception('Error!')\n",
    "                data[\"IntendedFor\"] = new_lst\n",
    "\n",
    "                js_f = open(path_ne+file, \"w\")\n",
    "                json_string = json.dumps(data, indent=8)\n",
    "                js_f.write(json_string)\n",
    "                js_f.close()"
   ]
  },
  {
   "cell_type": "code",
   "execution_count": 10,
   "id": "157989ee",
   "metadata": {},
   "outputs": [],
   "source": [
    "only_tsv = [\"sub-006\", \"sub-067\"]"
   ]
  },
  {
   "cell_type": "code",
   "execution_count": 11,
   "id": "24e50723",
   "metadata": {},
   "outputs": [],
   "source": [
    "more_file_than_actual = [\"sub-074\"]"
   ]
  },
  {
   "cell_type": "code",
   "execution_count": 12,
   "id": "263c437d",
   "metadata": {},
   "outputs": [],
   "source": [
    "no_intended_for = [\"sub-085\"]"
   ]
  },
  {
   "cell_type": "code",
   "execution_count": 6,
   "id": "ed3264fb",
   "metadata": {},
   "outputs": [
    {
     "data": {
      "text/plain": [
       "['ses-sen/func/sub-074_ses-sen_task-sentences_run-4_bold_topup.nii.gz',\n",
       " 'ses-sen/func/sub-074_ses-sen_task-sentences_run-5_bold_topup.nii.gz']"
      ]
     },
     "execution_count": 6,
     "metadata": {},
     "output_type": "execute_result"
    }
   ],
   "source": [
    "new_lst"
   ]
  },
  {
   "cell_type": "code",
   "execution_count": 7,
   "id": "c7967b9f",
   "metadata": {},
   "outputs": [
    {
     "data": {
      "text/plain": [
       "['ses-sen/func/sub-074_ses-sen_task-sentences_run-4_bold.nii.gz',\n",
       " 'ses-sen/func/sub-074_ses-sen_task-sentences_run-5_bold.nii.gz',\n",
       " 'ses-sen/func/sub-074_ses-sen_task-sentences_run-6_bold.nii.gz']"
      ]
     },
     "execution_count": 7,
     "metadata": {},
     "output_type": "execute_result"
    }
   ],
   "source": [
    "to_change"
   ]
  },
  {
   "cell_type": "code",
   "execution_count": 20,
   "id": "18f82af8",
   "metadata": {},
   "outputs": [
    {
     "data": {
      "text/plain": [
       "['ses-sen/func/sub-085_ses-sen_task-sentences_run-4_bold_topup.nii.gz',\n",
       " 'ses-sen/func/sub-085_ses-sen_task-sentences_run-5_bold_topup.nii.gz',\n",
       " 'ses-sen/func/sub-085_ses-sen_task-sentences_run-6_bold_topup.nii.gz']"
      ]
     },
     "execution_count": 20,
     "metadata": {},
     "output_type": "execute_result"
    }
   ],
   "source": [
    "new_lst"
   ]
  },
  {
   "cell_type": "code",
   "execution_count": 5,
   "id": "d009b70f",
   "metadata": {},
   "outputs": [
    {
     "data": {
      "text/plain": [
       "['ses-ne/func/sub-011_ses-ne_task-newsevents_run-3_bold_topup.nii.gz',\n",
       " 'ses-ne/func/sub-011_ses-ne_task-newsevents_run-4_bold_topup.nii.gz',\n",
       " 'ses-ne/func/sub-011_ses-ne_task-newsevents_run-5_bold_topup.nii.gz']"
      ]
     },
     "execution_count": 5,
     "metadata": {},
     "output_type": "execute_result"
    }
   ],
   "source": [
    "new_lst"
   ]
  },
  {
   "cell_type": "code",
   "execution_count": 85,
   "id": "3308e409",
   "metadata": {},
   "outputs": [
    {
     "data": {
      "text/plain": [
       "['ses-ne/func/sub-006', 'ses-ne', 'task-newsevents', 'run-5', 'bold.nii.gz']"
      ]
     },
     "execution_count": 85,
     "metadata": {},
     "output_type": "execute_result"
    }
   ],
   "source": [
    "to_change_f.split(\"_\")"
   ]
  },
  {
   "cell_type": "code",
   "execution_count": 83,
   "id": "ea2d98c6",
   "metadata": {},
   "outputs": [
    {
     "data": {
      "text/plain": [
       "['sub-007', 'ses-ne', 'task-newsevents', 'run-5', 'events.tsv']"
      ]
     },
     "execution_count": 83,
     "metadata": {},
     "output_type": "execute_result"
    }
   ],
   "source": [
    "cor_file.split(\"_\")"
   ]
  },
  {
   "cell_type": "code",
   "execution_count": 81,
   "id": "9fedccec",
   "metadata": {},
   "outputs": [
    {
     "data": {
      "text/plain": [
       "[]"
      ]
     },
     "execution_count": 81,
     "metadata": {},
     "output_type": "execute_result"
    }
   ],
   "source": [
    "new_lst"
   ]
  },
  {
   "cell_type": "code",
   "execution_count": 79,
   "id": "dbebde76",
   "metadata": {},
   "outputs": [
    {
     "data": {
      "text/plain": [
       "'//pentagon.ucsd.edu/squirelab/local/mridata/Smith_Merit/Processed_Data/nifti/sub-007/ses-ne/fmap/._sub-007_ses-ne_dir-fwd_run-2_epi.json'"
      ]
     },
     "execution_count": 79,
     "metadata": {},
     "output_type": "execute_result"
    }
   ],
   "source": [
    "path_ne+file"
   ]
  },
  {
   "cell_type": "code",
   "execution_count": 72,
   "id": "7a0bb012",
   "metadata": {},
   "outputs": [
    {
     "data": {
      "text/plain": [
       "['ses-ne/func/sub-010_ses-ne_task-newsevents_run-1_bold_topup.nii.gz',\n",
       " 'ses-ne/func/sub-010_ses-ne_task-newsevents_run-2_bold_topup.nii.gz',\n",
       " 'ses-ne/func/sub-010_ses-ne_task-newsevents_run-3_bold_topup.nii.gz',\n",
       " 'ses-ne/func/sub-010_ses-ne_task-newsevents_run-4_bold_topup.nii.gz',\n",
       " 'ses-ne/func/sub-010_ses-ne_task-newsevents_run-5_bold_topup.nii.gz']"
      ]
     },
     "execution_count": 72,
     "metadata": {},
     "output_type": "execute_result"
    }
   ],
   "source": [
    "cor_lst"
   ]
  },
  {
   "cell_type": "code",
   "execution_count": 66,
   "id": "2f936bff",
   "metadata": {},
   "outputs": [
    {
     "data": {
      "text/plain": [
       "'run-3'"
      ]
     },
     "execution_count": 66,
     "metadata": {},
     "output_type": "execute_result"
    }
   ],
   "source": [
    "to_change[0].split(\"_\")[-2]"
   ]
  },
  {
   "cell_type": "code",
   "execution_count": 63,
   "id": "3e3bb399",
   "metadata": {},
   "outputs": [
    {
     "data": {
      "text/plain": [
       "'run-1'"
      ]
     },
     "execution_count": 63,
     "metadata": {},
     "output_type": "execute_result"
    }
   ],
   "source": [
    "cor_lst[0].split(\"_\")[-3]"
   ]
  },
  {
   "cell_type": "code",
   "execution_count": 55,
   "id": "1ebbdee4",
   "metadata": {},
   "outputs": [],
   "source": [
    "back_up_f.close()"
   ]
  },
  {
   "cell_type": "code",
   "execution_count": 19,
   "id": "4f156f09",
   "metadata": {},
   "outputs": [
    {
     "data": {
      "text/plain": [
       "'1_bold.nii.gz'"
      ]
     },
     "execution_count": 19,
     "metadata": {},
     "output_type": "execute_result"
    }
   ],
   "source": [
    "l = \"ses-sen/func/sub-010_ses-sen_task-sentences_run-1_bold.nii.gz\"\n",
    "l.split(\"-\")[-1]"
   ]
  },
  {
   "cell_type": "code",
   "execution_count": 21,
   "id": "c58c6b73",
   "metadata": {},
   "outputs": [
    {
     "data": {
      "text/plain": [
       "'//pentagon.ucsd.edu/squirelab/local/mridata/Smith_Merit/Processed_Data/nifti/sub-034/ses-sen/'"
      ]
     },
     "execution_count": 21,
     "metadata": {},
     "output_type": "execute_result"
    }
   ],
   "source": [
    "path_sen[:-5]"
   ]
  },
  {
   "cell_type": "code",
   "execution_count": 23,
   "id": "02bbf140",
   "metadata": {},
   "outputs": [
    {
     "data": {
      "text/plain": [
       "'aa'"
      ]
     },
     "execution_count": 23,
     "metadata": {},
     "output_type": "execute_result"
    }
   ],
   "source": [
    "\"\".join([\"a\", 'a'])"
   ]
  },
  {
   "cell_type": "code",
   "execution_count": null,
   "id": "2b9448e9",
   "metadata": {},
   "outputs": [],
   "source": []
  }
 ],
 "metadata": {
  "kernelspec": {
   "display_name": "Python 3",
   "language": "python",
   "name": "python3"
  },
  "language_info": {
   "codemirror_mode": {
    "name": "ipython",
    "version": 3
   },
   "file_extension": ".py",
   "mimetype": "text/x-python",
   "name": "python",
   "nbconvert_exporter": "python",
   "pygments_lexer": "ipython3",
   "version": "3.8.8"
  }
 },
 "nbformat": 4,
 "nbformat_minor": 5
}
