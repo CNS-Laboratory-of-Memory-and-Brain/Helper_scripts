{
 "cells": [
  {
   "cell_type": "code",
   "execution_count": 1,
   "id": "09756697",
   "metadata": {},
   "outputs": [],
   "source": [
    "import pandas as pd\n",
    "import numpy as np\n",
    "import json\n",
    "import os\n",
    "import shutil"
   ]
  },
  {
   "cell_type": "code",
   "execution_count": 2,
   "id": "1bdbbfa9",
   "metadata": {},
   "outputs": [],
   "source": [
    "path = \"//pentagon.ucsd.edu/squirelab/public_data/public_data/Christine/Funded Grants/VA Merit/Manuscripts/Cortical Thickness-Volume/VolumeRegressions.xlsx\""
   ]
  },
  {
   "cell_type": "code",
   "execution_count": 3,
   "id": "47b547fc",
   "metadata": {},
   "outputs": [
    {
     "data": {
      "text/plain": [
       "True"
      ]
     },
     "execution_count": 3,
     "metadata": {},
     "output_type": "execute_result"
    }
   ],
   "source": [
    "os.path.exists(path)"
   ]
  },
  {
   "cell_type": "code",
   "execution_count": 4,
   "id": "f8a30cbd",
   "metadata": {},
   "outputs": [],
   "source": [
    "df = pd.read_excel(path, header=None, skiprows=165)"
   ]
  },
  {
   "cell_type": "code",
   "execution_count": 5,
   "id": "955e7976",
   "metadata": {},
   "outputs": [],
   "source": [
    "df_NE = df[(df[1] == \"NE_Accuracy\") & (df[0] != \"1\")]"
   ]
  },
  {
   "cell_type": "code",
   "execution_count": 6,
   "id": "ebeecbca",
   "metadata": {},
   "outputs": [],
   "source": [
    "df_NE = df_NE.iloc[:, 2:]"
   ]
  },
  {
   "cell_type": "code",
   "execution_count": 7,
   "id": "be026982",
   "metadata": {},
   "outputs": [],
   "source": [
    "df_NE['region'] = df.iloc[[idx + 1 for idx in df_NE.index]][0].apply(lambda x: x.split()[-1]).values"
   ]
  },
  {
   "cell_type": "code",
   "execution_count": 108,
   "id": "0c1fb4e4",
   "metadata": {},
   "outputs": [
    {
     "data": {
      "text/html": [
       "<div>\n",
       "<style scoped>\n",
       "    .dataframe tbody tr th:only-of-type {\n",
       "        vertical-align: middle;\n",
       "    }\n",
       "\n",
       "    .dataframe tbody tr th {\n",
       "        vertical-align: top;\n",
       "    }\n",
       "\n",
       "    .dataframe thead th {\n",
       "        text-align: right;\n",
       "    }\n",
       "</style>\n",
       "<table border=\"1\" class=\"dataframe\">\n",
       "  <thead>\n",
       "    <tr style=\"text-align: right;\">\n",
       "      <th></th>\n",
       "      <th>2</th>\n",
       "      <th>3</th>\n",
       "      <th>4</th>\n",
       "      <th>5</th>\n",
       "      <th>6</th>\n",
       "      <th>region</th>\n",
       "    </tr>\n",
       "  </thead>\n",
       "  <tbody>\n",
       "    <tr>\n",
       "      <th>63</th>\n",
       "      <td>123.404449</td>\n",
       "      <td>385.492938</td>\n",
       "      <td>0.041243</td>\n",
       "      <td>0.320121</td>\n",
       "      <td>0.749953</td>\n",
       "      <td>lh_bankssts_volume</td>\n",
       "    </tr>\n",
       "    <tr>\n",
       "      <th>132</th>\n",
       "      <td>333.752705</td>\n",
       "      <td>373.353366</td>\n",
       "      <td>0.117447</td>\n",
       "      <td>0.893932</td>\n",
       "      <td>0.374815</td>\n",
       "      <td>lh_caudalanteriorcingulate_volume</td>\n",
       "    </tr>\n",
       "    <tr>\n",
       "      <th>201</th>\n",
       "      <td>58.15369</td>\n",
       "      <td>882.406216</td>\n",
       "      <td>0.008669</td>\n",
       "      <td>0.065904</td>\n",
       "      <td>0.947667</td>\n",
       "      <td>lh_caudalmiddlefrontal_volume</td>\n",
       "    </tr>\n",
       "    <tr>\n",
       "      <th>270</th>\n",
       "      <td>198.793508</td>\n",
       "      <td>462.120541</td>\n",
       "      <td>0.052116</td>\n",
       "      <td>0.430177</td>\n",
       "      <td>0.668559</td>\n",
       "      <td>lh_cuneus_volume</td>\n",
       "    </tr>\n",
       "    <tr>\n",
       "      <th>339</th>\n",
       "      <td>1769.984415</td>\n",
       "      <td>421.513105</td>\n",
       "      <td>0.473205</td>\n",
       "      <td>4.199121</td>\n",
       "      <td>0.000087</td>\n",
       "      <td>lh_entorhinal_volume</td>\n",
       "    </tr>\n",
       "    <tr>\n",
       "      <th>...</th>\n",
       "      <td>...</td>\n",
       "      <td>...</td>\n",
       "      <td>...</td>\n",
       "      <td>...</td>\n",
       "      <td>...</td>\n",
       "      <td>...</td>\n",
       "    </tr>\n",
       "    <tr>\n",
       "      <th>4458</th>\n",
       "      <td>1875.874365</td>\n",
       "      <td>1315.966937</td>\n",
       "      <td>0.184379</td>\n",
       "      <td>1.425472</td>\n",
       "      <td>0.159036</td>\n",
       "      <td>rh_supramarginal_volume</td>\n",
       "    </tr>\n",
       "    <tr>\n",
       "      <th>4527</th>\n",
       "      <td>267.974046</td>\n",
       "      <td>112.861821</td>\n",
       "      <td>0.304626</td>\n",
       "      <td>2.374355</td>\n",
       "      <td>0.020689</td>\n",
       "      <td>rh_frontalpole_volume</td>\n",
       "    </tr>\n",
       "    <tr>\n",
       "      <th>4596</th>\n",
       "      <td>1117.005289</td>\n",
       "      <td>353.986545</td>\n",
       "      <td>0.390333</td>\n",
       "      <td>3.155502</td>\n",
       "      <td>0.002472</td>\n",
       "      <td>rh_temporalpole_volume</td>\n",
       "    </tr>\n",
       "    <tr>\n",
       "      <th>4665</th>\n",
       "      <td>25.738637</td>\n",
       "      <td>149.82118</td>\n",
       "      <td>0.02342</td>\n",
       "      <td>0.171796</td>\n",
       "      <td>0.864158</td>\n",
       "      <td>rh_transversetemporal_volume</td>\n",
       "    </tr>\n",
       "    <tr>\n",
       "      <th>4734</th>\n",
       "      <td>1763.266236</td>\n",
       "      <td>811.195492</td>\n",
       "      <td>0.252658</td>\n",
       "      <td>2.173664</td>\n",
       "      <td>0.033558</td>\n",
       "      <td>rh_insula_volume</td>\n",
       "    </tr>\n",
       "  </tbody>\n",
       "</table>\n",
       "<p>68 rows × 6 columns</p>\n",
       "</div>"
      ],
      "text/plain": [
       "                2            3         4         5         6  \\\n",
       "63     123.404449   385.492938  0.041243  0.320121  0.749953   \n",
       "132    333.752705   373.353366  0.117447  0.893932  0.374815   \n",
       "201      58.15369   882.406216  0.008669  0.065904  0.947667   \n",
       "270    198.793508   462.120541  0.052116  0.430177  0.668559   \n",
       "339   1769.984415   421.513105  0.473205  4.199121  0.000087   \n",
       "...           ...          ...       ...       ...       ...   \n",
       "4458  1875.874365  1315.966937  0.184379  1.425472  0.159036   \n",
       "4527   267.974046   112.861821  0.304626  2.374355  0.020689   \n",
       "4596  1117.005289   353.986545  0.390333  3.155502  0.002472   \n",
       "4665    25.738637    149.82118   0.02342  0.171796  0.864158   \n",
       "4734  1763.266236   811.195492  0.252658  2.173664  0.033558   \n",
       "\n",
       "                                 region  \n",
       "63                   lh_bankssts_volume  \n",
       "132   lh_caudalanteriorcingulate_volume  \n",
       "201       lh_caudalmiddlefrontal_volume  \n",
       "270                    lh_cuneus_volume  \n",
       "339                lh_entorhinal_volume  \n",
       "...                                 ...  \n",
       "4458            rh_supramarginal_volume  \n",
       "4527              rh_frontalpole_volume  \n",
       "4596             rh_temporalpole_volume  \n",
       "4665       rh_transversetemporal_volume  \n",
       "4734                   rh_insula_volume  \n",
       "\n",
       "[68 rows x 6 columns]"
      ]
     },
     "execution_count": 108,
     "metadata": {},
     "output_type": "execute_result"
    }
   ],
   "source": [
    "df_NE"
   ]
  },
  {
   "cell_type": "code",
   "execution_count": 109,
   "id": "554d80af",
   "metadata": {},
   "outputs": [],
   "source": [
    "df_NE = df_NE.rename(columns = {2: \"Unstandardized Coefficients B\", 3: \"Unstandardized Coefficients Std. Error\", 4: \"Standardized Coefficients Beta\", 5: \"t\", 6: \"Sig.\"})"
   ]
  },
  {
   "cell_type": "code",
   "execution_count": 113,
   "id": "8fe856f9",
   "metadata": {},
   "outputs": [],
   "source": [
    "df_NE = df_NE.set_index(\"region\")"
   ]
  },
  {
   "cell_type": "code",
   "execution_count": 114,
   "id": "7bcdca51",
   "metadata": {},
   "outputs": [],
   "source": [
    "df_NE.to_csv(\"//pentagon.ucsd.edu/squirelab/public_data/public_data/Christine/Funded Grants/VA Merit/Manuscripts/Cortical Thickness-Volume/NE_Accuracy.csv\")"
   ]
  }
 ],
 "metadata": {
  "kernelspec": {
   "display_name": "Python 3",
   "language": "python",
   "name": "python3"
  },
  "language_info": {
   "codemirror_mode": {
    "name": "ipython",
    "version": 3
   },
   "file_extension": ".py",
   "mimetype": "text/x-python",
   "name": "python",
   "nbconvert_exporter": "python",
   "pygments_lexer": "ipython3",
   "version": "3.8.8"
  }
 },
 "nbformat": 4,
 "nbformat_minor": 5
}
